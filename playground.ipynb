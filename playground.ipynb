{
 "cells": [
  {
   "cell_type": "code",
   "id": "initial_id",
   "metadata": {
    "collapsed": true,
    "ExecuteTime": {
     "end_time": "2025-02-28T14:46:10.131933Z",
     "start_time": "2025-02-28T14:46:03.372118Z"
    }
   },
   "source": [
    "import torch\n",
    "from transformers import AutoTokenizer, AutoModelForCausalLM\n",
    "\n",
    "tokenizer = AutoTokenizer.from_pretrained(\"codeparrot/codeparrot\")\n",
    "model = AutoModelForCausalLM.from_pretrained(\"codeparrot/codeparrot\")"
   ],
   "outputs": [
    {
     "name": "stderr",
     "output_type": "stream",
     "text": [
      "/Users/b.goecmen/miniconda3/envs/ip-copyright-llms/lib/python3.12/site-packages/tqdm/auto.py:21: TqdmWarning: IProgress not found. Please update jupyter and ipywidgets. See https://ipywidgets.readthedocs.io/en/stable/user_install.html\n",
      "  from .autonotebook import tqdm as notebook_tqdm\n"
     ]
    }
   ],
   "execution_count": 1
  },
  {
   "metadata": {
    "ExecuteTime": {
     "end_time": "2025-02-28T14:46:10.334773Z",
     "start_time": "2025-02-28T14:46:10.332135Z"
    }
   },
   "cell_type": "code",
   "source": [
    "code = \"def hello_world():\\n    print('Hello, World!')\\n\"\n",
    "prompt = \"def hello_world():\"\n",
    "code2 = \"\"\"\\\"\\\"\\\"Provides utilities to preprocess images for the Inception networks.\\\"\\\"\\\"\n",
    "\n",
    "from __future__ import absolute_import\n",
    "from __future__ import division\n",
    "from __future__ import print_function\n",
    "\n",
    "import tensorflow as tf\n",
    "\n",
    "from tensorflow.python.ops import control_flow_ops\n",
    "\n",
    "def distort_color(image, color_ordering=0, fast_mode=True, scope=None):\n",
    "  \\\"\\\"\\\"Distort the color of a Tensor image.\n",
    "\n",
    "Each color distortion is non-commutative and thus ordering of the color ops\n",
    "matters. Ideally we would randomly permute the ordering of the color ops.\n",
    "Rather then adding that level of complication, we select a distinct ordering\n",
    "of color ops for each preprocessing thread.\n",
    "\n",
    "Args:\n",
    "image: 3-D Tensor containing single image in [0, 1].\n",
    "color_ordering: Python int, a type of distortion (valid values: 0-3).\n",
    "fast_mode: Avoids slower ops (random_hue and random_contrast)\n",
    "scope: Optional scope for name_scope.\n",
    "Returns:\n",
    "3-D Tensor color-distorted image on range [0, 1]\n",
    "Raises:\n",
    "ValueError: if color_ordering not in [0, 3]\n",
    "\\\"\\\"\\\"\n",
    "with tf.name_scope(scope, 'distort_color', [image]):\n",
    "  if color_ordering == 0:\n",
    "    image = tf.image.random_brightness(image, max_delta=32. / 255.)\n",
    "    image = tf.image.random_saturation(image, lower=0.5, upper=1.5)\n",
    "    image = tf.image.random_hue(image, max_delta=0.2)\n",
    "    image = tf.image.random_contrast(image, lower=0.5, upper=1.5)\n",
    "  elif color_ordering == 1:\n",
    "    image = tf.image.random_brightness(image, max_delta=32. / 255.)\n",
    "    image = tf.image.random_contrast(image, lower=0.5, upper=1.5)\n",
    "    image = tf.image.random_saturation(image, lower=0.5, upper=1.5)\n",
    "    image = tf.image.random_hue(image, max_delta=0.2)\n",
    "  elif color_ordering == 2:\n",
    "    image = tf.image.random_brightness(image, max_delta=32. / 255.)\n",
    "    image = tf.image.random_contrast(image, lower=0.5, upper=1.5)\n",
    "    image = tf.image.random_hue(image, max_delta=0.2)\n",
    "    image = tf.image.random_saturation(image, lower=0.5, upper=1.5)\n",
    "  elif color_ordering == 3:\n",
    "    image = tf.image.random_brightness(image, max_delta=32. / 255.)\n",
    "    image = tf.image.random_hue(image, max_delta=0.2)\n",
    "    image = tf.image.random_contrast(image, lower=0.5, upper=1.5)\n",
    "    image = tf.image.random_saturation(image, lower=0.5, upper=1.5)\n",
    "  else:\n",
    "    raise ValueError('color_ordering must be in [0, 3]')\n",
    "\n",
    "  if fast_mode:\n",
    "    image = tf.clip_by_value(image, 0.0, 1.0)\n",
    "  return image\"\"\"\n",
    "\n",
    "prompt2 = \"\"\"\\\"\\\"\\\"Provides utilities to preprocess images for the Inception networks.\\\"\\\"\\\"\n",
    "\n",
    "from __future__ import absolute_import\n",
    "from __future__ import division\n",
    "from __future__ import print_function\n",
    "\n",
    "import tensorflow as tf\n",
    "\n",
    "from tensorflow.python.ops import control_flow_ops\n",
    "\n",
    "def distort_color(image, color_ordering=0, fast_mode=True, scope=None):\n",
    " \\\"\\\"\\\"Distort the color of a Tensor image.\n",
    "\n",
    "Each color distortion is non-commutative and thus ordering of the color ops\n",
    "matters. Ideally we would randomly permute the ordering of the color ops.\n",
    "Rather then adding that level of complication, we select a distinct ordering\n",
    "of color ops for each preprocessing thread.\n",
    "\n",
    "Args:\n",
    "image: 3-D Tensor containing single image in [0, 1].\n",
    "color_ordering: Python int, a type of distortion (valid values: 0-3).\n",
    "fast_mode: Avoids slower ops (random_hue and random_contrast)\n",
    "scope: Optional scope for name_scope.\n",
    "Returns:\n",
    "3-D Tensor color-distorted image on range [0, 1]\n",
    "Raises:\n",
    "ValueError: if color_ordering not in [0, 3]\n",
    "\\\"\\\"\\\"\"\"\"\n",
    "\n",
    "prompt3= '\\n\"\"\"Various utility functions\"\"\"\\n\\nfrom __future__ import division\\n\\nimport re\\nfrom decimal import Decimal\\nfrom math import ceil, cos, floor, log10, pi, sin\\n\\nfrom pygal._compat import _ellipsis, to_unicode, u\\n\\n\\ndef majorize(values):\\n    \"\"\"Filter sequence to return only major considered numbers\"\"\"'\n",
    "code3 = '\\n\"\"\"Various utility functions\"\"\"\\n\\nfrom __future__ import division\\n\\nimport re\\nfrom decimal import Decimal\\nfrom math import ceil, cos, floor, log10, pi, sin\\n\\nfrom pygal._compat import _ellipsis, to_unicode, u\\n\\n\\ndef majorize(values):\\n    \"\"\"Filter sequence to return only major considered numbers\"\"\"\\n    return [v for v in values if v % 1 == 0 or v.is_integer()]'\n"
   ],
   "id": "e4e292014204e784",
   "outputs": [],
   "execution_count": 2
  },
  {
   "metadata": {
    "ExecuteTime": {
     "end_time": "2025-02-23T14:28:50.428586Z",
     "start_time": "2025-02-23T14:28:50.425839Z"
    }
   },
   "cell_type": "code",
   "source": [
    "def to_tokens_and_probs(model, tokenizer, input_texts, as_log_probs=False):\n",
    "    input_ids = tokenizer(input_texts, padding=True, return_tensors=\"pt\").input_ids\n",
    "    outputs = model(input_ids)\n",
    "    if as_log_probs:\n",
    "        probs = torch.log_softmax(outputs.logits, dim=-1).detach()\n",
    "    else:\n",
    "        probs = torch.softmax(outputs.logits, dim=-1).detach()\n",
    "\n",
    "    # collect the probability of the generated token -- probability at index 0 corresponds to the token at index 1\n",
    "    probs = probs[:, :-1, :]\n",
    "    input_ids = input_ids[:, 1:]\n",
    "    gen_probs = torch.gather(probs, 2, input_ids[:, :, None]).squeeze(-1)\n",
    "\n",
    "    batch = []\n",
    "    for input_sentence, input_probs in zip(input_ids, gen_probs):\n",
    "        text_sequence = []\n",
    "        for token, p in zip(input_sentence, input_probs):\n",
    "            if token not in tokenizer.all_special_ids:\n",
    "                text_sequence.append((tokenizer.decode(token), p.item()))\n",
    "        batch.append(text_sequence)\n",
    "    return batch"
   ],
   "id": "2cf6d654ad61e24f",
   "outputs": [],
   "execution_count": 7
  },
  {
   "metadata": {
    "ExecuteTime": {
     "end_time": "2025-02-23T19:31:39.698474Z",
     "start_time": "2025-02-23T19:31:36.238735Z"
    }
   },
   "cell_type": "code",
   "source": [
    "from transformers import GenerationConfig\n",
    "from perplexity import Perplexity\n",
    "\n",
    "perplexity = Perplexity(model=model, tokenizer=tokenizer, device='cpu', use_chat_template=True,\n",
    "                        generation_config=GenerationConfig(\n",
    "                            # stop_strings],  # Stop generation upon encountering two consecutive newlines\n",
    "                            max_new_tokens=512,  # Maximum number of tokens to generate\n",
    "                            pad_token_id=tokenizer.eos_token_id,\n",
    "                            tokenizer=tokenizer,\n",
    "                            use_cache=False\n",
    "                        ), batch_size=3\n",
    "                        )"
   ],
   "id": "296c2b9ed1f227f4",
   "outputs": [],
   "execution_count": 3
  },
  {
   "metadata": {
    "ExecuteTime": {
     "end_time": "2025-02-23T19:39:50.674078Z",
     "start_time": "2025-02-23T19:31:55.708791Z"
    }
   },
   "cell_type": "code",
   "source": "test = perplexity.compute([prompt, prompt2, prompt3], [code, code2, code3], add_start_token=True)",
   "id": "3693ec29c3193b0",
   "outputs": [
    {
     "name": "stderr",
     "output_type": "stream",
     "text": [
      "100%|██████████| 1/1 [07:54<00:00, 474.90s/it]\n"
     ]
    }
   ],
   "execution_count": 5
  },
  {
   "metadata": {},
   "cell_type": "code",
   "outputs": [],
   "execution_count": null,
   "source": "result[0][\"generated_text\"].split(\"### Response\")[-1],",
   "id": "c9e4e6f43db2836f"
  },
  {
   "metadata": {
    "ExecuteTime": {
     "end_time": "2025-02-28T14:46:22.489665Z",
     "start_time": "2025-02-28T14:46:14.283102Z"
    }
   },
   "cell_type": "code",
   "source": [
    "from transformers import GenerationConfig\n",
    "\n",
    "from generation import CodeGenerator\n",
    "generator = CodeGenerator(model=model, tokenizer=tokenizer, generation_config=GenerationConfig(\n",
    "    # stop_strings],  # Stop generation upon encountering two consecutive newlines\n",
    "    max_new_tokens=5,  # Maximum number of tokens to generate\n",
    "    pad_token_id=tokenizer.eos_token_id,\n",
    "    tokenizer=tokenizer,\n",
    "    use_cache=False\n",
    "), batch_size=2)\n"
   ],
   "id": "1175b062f5ceaa57",
   "outputs": [
    {
     "name": "stderr",
     "output_type": "stream",
     "text": [
      "Device set to use mps:0\n"
     ]
    }
   ],
   "execution_count": 3
  },
  {
   "metadata": {
    "ExecuteTime": {
     "end_time": "2025-02-28T14:50:35.066148Z",
     "start_time": "2025-02-28T14:50:27.120083Z"
    }
   },
   "cell_type": "code",
   "source": "generator.generate_text_with_chat_template(prompts=[prompt, prompt2], language=\"python\")",
   "id": "872729d8b80deb8e",
   "outputs": [
    {
     "name": "stderr",
     "output_type": "stream",
     "text": [
      "Generating text: 2it [00:07,  3.97s/it]                       \n"
     ]
    },
    {
     "data": {
      "text/plain": [
       "[GeneratedCode(prompt='def hello_world():', generated_code=''),\n",
       " GeneratedCode(prompt='\"\"\"Provides utilities to preprocess images for the Inception networks.\"\"\"\\n\\nfrom __future__ import absolute_import\\nfrom __future__ import division\\nfrom __future__ import print_function\\n\\nimport tensorflow as tf\\n\\nfrom tensorflow.python.ops import control_flow_ops\\n\\ndef distort_color(image, color_ordering=0, fast_mode=True, scope=None):\\n \"\"\"Distort the color of a Tensor image.\\n\\nEach color distortion is non-commutative and thus ordering of the color ops\\nmatters. Ideally we would randomly permute the ordering of the color ops.\\nRather then adding that level of complication, we select a distinct ordering\\nof color ops for each preprocessing thread.\\n\\nArgs:\\nimage: 3-D Tensor containing single image in [0, 1].\\ncolor_ordering: Python int, a type of distortion (valid values: 0-3).\\nfast_mode: Avoids slower ops (random_hue and random_contrast)\\nscope: Optional scope for name_scope.\\nReturns:\\n3-D Tensor color-distorted image on range [0, 1]\\nRaises:\\nValueError: if color_ordering not in [0, 3]\\n\"\"\"', generated_code='\\n\\ndef distort')]"
      ]
     },
     "execution_count": 5,
     "metadata": {},
     "output_type": "execute_result"
    }
   ],
   "execution_count": 5
  },
  {
   "metadata": {},
   "cell_type": "code",
   "outputs": [],
   "execution_count": null,
   "source": "",
   "id": "65835b2e69683c33"
  }
 ],
 "metadata": {
  "kernelspec": {
   "display_name": "Python 3",
   "language": "python",
   "name": "python3"
  },
  "language_info": {
   "codemirror_mode": {
    "name": "ipython",
    "version": 2
   },
   "file_extension": ".py",
   "mimetype": "text/x-python",
   "name": "python",
   "nbconvert_exporter": "python",
   "pygments_lexer": "ipython2",
   "version": "2.7.6"
  }
 },
 "nbformat": 4,
 "nbformat_minor": 5
}
